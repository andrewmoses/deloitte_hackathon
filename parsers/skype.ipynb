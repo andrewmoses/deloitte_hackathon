{
 "cells": [
  {
   "cell_type": "code",
   "execution_count": 2,
   "metadata": {
    "scrolled": true
   },
   "outputs": [
    {
     "data": {
      "text/html": [
       "<div>\n",
       "<style scoped>\n",
       "    .dataframe tbody tr th:only-of-type {\n",
       "        vertical-align: middle;\n",
       "    }\n",
       "\n",
       "    .dataframe tbody tr th {\n",
       "        vertical-align: top;\n",
       "    }\n",
       "\n",
       "    .dataframe thead th {\n",
       "        text-align: right;\n",
       "    }\n",
       "</style>\n",
       "<table border=\"1\" class=\"dataframe\">\n",
       "  <thead>\n",
       "    <tr style=\"text-align: right;\">\n",
       "      <th></th>\n",
       "      <th>Column1.properties.lastimreceivedtime</th>\n",
       "      <th>Column1.threadProperties.membercount</th>\n",
       "      <th>Column1.threadProperties.members</th>\n",
       "      <th>Column1.MessageList.from</th>\n",
       "      <th>Column1.MessageList.properties.emotions.key</th>\n",
       "      <th>Column1.MessageList.properties.emotions.users.mri</th>\n",
       "    </tr>\n",
       "  </thead>\n",
       "  <tbody>\n",
       "    <tr>\n",
       "      <td>0</td>\n",
       "      <td>2020-03-21T13:24:14.333Z</td>\n",
       "      <td>3</td>\n",
       "      <td>[\"8:live:aravindmuvvala_1\",\"8:live:.cid.5161f2...</td>\n",
       "      <td>8:live:.cid.e8394c46ef58a41c</td>\n",
       "      <td>scheduledCallInviteAccepted</td>\n",
       "      <td>8:live:.cid.5161f2c01c84ee91</td>\n",
       "    </tr>\n",
       "    <tr>\n",
       "      <td>1</td>\n",
       "      <td>2020-03-21T13:24:14.333Z</td>\n",
       "      <td>3</td>\n",
       "      <td>[\"8:live:aravindmuvvala_1\",\"8:live:.cid.5161f2...</td>\n",
       "      <td>8:live:.cid.e8394c46ef58a41c</td>\n",
       "      <td>scheduledCallInviteAccepted</td>\n",
       "      <td>8:live:aravindmuvvala_1</td>\n",
       "    </tr>\n",
       "  </tbody>\n",
       "</table>\n",
       "</div>"
      ],
      "text/plain": [
       "  Column1.properties.lastimreceivedtime  Column1.threadProperties.membercount  \\\n",
       "0              2020-03-21T13:24:14.333Z                                     3   \n",
       "1              2020-03-21T13:24:14.333Z                                     3   \n",
       "\n",
       "                    Column1.threadProperties.members  \\\n",
       "0  [\"8:live:aravindmuvvala_1\",\"8:live:.cid.5161f2...   \n",
       "1  [\"8:live:aravindmuvvala_1\",\"8:live:.cid.5161f2...   \n",
       "\n",
       "       Column1.MessageList.from Column1.MessageList.properties.emotions.key  \\\n",
       "0  8:live:.cid.e8394c46ef58a41c                 scheduledCallInviteAccepted   \n",
       "1  8:live:.cid.e8394c46ef58a41c                 scheduledCallInviteAccepted   \n",
       "\n",
       "  Column1.MessageList.properties.emotions.users.mri  \n",
       "0                      8:live:.cid.5161f2c01c84ee91  \n",
       "1                           8:live:aravindmuvvala_1  "
      ]
     },
     "execution_count": 2,
     "metadata": {},
     "output_type": "execute_result"
    }
   ],
   "source": [
    "import pandas as pd\n",
    "df = pd.read_excel('../inputs/skype/m1.xlsx',sheet_name=1)\n",
    "df"
   ]
  },
  {
   "cell_type": "code",
   "execution_count": 7,
   "metadata": {
    "scrolled": true
   },
   "outputs": [
    {
     "data": {
      "text/plain": [
       "['8:live:.cid.5161f2c01c84ee91', '8:live:aravindmuvvala_1']"
      ]
     },
     "execution_count": 7,
     "metadata": {},
     "output_type": "execute_result"
    }
   ],
   "source": [
    "df[list(df.columns)[5]].tolist()"
   ]
  },
  {
   "cell_type": "code",
   "execution_count": 8,
   "metadata": {},
   "outputs": [
    {
     "data": {
      "text/plain": [
       "['scheduledCallInviteAccepted', 'scheduledCallInviteAccepted']"
      ]
     },
     "execution_count": 8,
     "metadata": {},
     "output_type": "execute_result"
    }
   ],
   "source": [
    "df[list(df.columns)[4]].tolist()"
   ]
  },
  {
   "cell_type": "code",
   "execution_count": 10,
   "metadata": {},
   "outputs": [
    {
     "name": "stdout",
     "output_type": "stream",
     "text": [
      "['8:live:.cid.5161f2c01c84ee91', '8:live:aravindmuvvala_1', '8:live:.cid.e8394c46ef58a41c', '8:live:.cid.5c231f6b8f253599']\n",
      "[2, 1, 1, 0]\n"
     ]
    }
   ],
   "source": [
    "meetings = ['m1.xlsx','m2.xlsx']\n",
    "users = []\n",
    "meeting_count = []\n",
    "for each in meetings:\n",
    "    df = pd.read_excel('../inputs/skype/'+str(each),sheet_name=1)\n",
    "    us_m = df[list(df.columns)[5]].tolist()\n",
    "    stat_m = df[list(df.columns)[4]].tolist()\n",
    "    for x in range(len(us_m)):\n",
    "        if not us_m[x] in users:\n",
    "            users.append(us_m[x])\n",
    "            if stat_m[x] == 'scheduledCallInviteAccepted':\n",
    "                meeting_count.append(1)\n",
    "            else:\n",
    "                meeting_count.append(0)\n",
    "        else:\n",
    "            wd = users.index(us_m[x])\n",
    "            if stat_m[x] == 'scheduledCallInviteAccepted':\n",
    "                meeting_count[wd] = meeting_count[wd]+1\n",
    "            else:\n",
    "                do_nothing = 0\n",
    "\n",
    "print(users)\n",
    "print(meeting_count)"
   ]
  },
  {
   "cell_type": "code",
   "execution_count": 11,
   "metadata": {},
   "outputs": [
    {
     "data": {
      "text/html": [
       "<div>\n",
       "<style scoped>\n",
       "    .dataframe tbody tr th:only-of-type {\n",
       "        vertical-align: middle;\n",
       "    }\n",
       "\n",
       "    .dataframe tbody tr th {\n",
       "        vertical-align: top;\n",
       "    }\n",
       "\n",
       "    .dataframe thead th {\n",
       "        text-align: right;\n",
       "    }\n",
       "</style>\n",
       "<table border=\"1\" class=\"dataframe\">\n",
       "  <thead>\n",
       "    <tr style=\"text-align: right;\">\n",
       "      <th></th>\n",
       "      <th>users</th>\n",
       "      <th>meeting_count</th>\n",
       "    </tr>\n",
       "  </thead>\n",
       "  <tbody>\n",
       "    <tr>\n",
       "      <td>0</td>\n",
       "      <td>8:live:.cid.5161f2c01c84ee91</td>\n",
       "      <td>2</td>\n",
       "    </tr>\n",
       "    <tr>\n",
       "      <td>1</td>\n",
       "      <td>8:live:aravindmuvvala_1</td>\n",
       "      <td>1</td>\n",
       "    </tr>\n",
       "    <tr>\n",
       "      <td>2</td>\n",
       "      <td>8:live:.cid.e8394c46ef58a41c</td>\n",
       "      <td>1</td>\n",
       "    </tr>\n",
       "    <tr>\n",
       "      <td>3</td>\n",
       "      <td>8:live:.cid.5c231f6b8f253599</td>\n",
       "      <td>0</td>\n",
       "    </tr>\n",
       "  </tbody>\n",
       "</table>\n",
       "</div>"
      ],
      "text/plain": [
       "                          users  meeting_count\n",
       "0  8:live:.cid.5161f2c01c84ee91              2\n",
       "1       8:live:aravindmuvvala_1              1\n",
       "2  8:live:.cid.e8394c46ef58a41c              1\n",
       "3  8:live:.cid.5c231f6b8f253599              0"
      ]
     },
     "execution_count": 11,
     "metadata": {},
     "output_type": "execute_result"
    }
   ],
   "source": [
    "f_df = pd.DataFrame.from_dict({'users':users,'meeting_count':meeting_count})\n",
    "f_df"
   ]
  },
  {
   "cell_type": "code",
   "execution_count": 12,
   "metadata": {},
   "outputs": [],
   "source": [
    "f_df.to_csv(\"../outputs/skype.csv\",index=False)"
   ]
  }
 ],
 "metadata": {
  "kernelspec": {
   "display_name": "Python 3",
   "language": "python",
   "name": "python3"
  },
  "language_info": {
   "codemirror_mode": {
    "name": "ipython",
    "version": 3
   },
   "file_extension": ".py",
   "mimetype": "text/x-python",
   "name": "python",
   "nbconvert_exporter": "python",
   "pygments_lexer": "ipython3",
   "version": "3.7.4"
  }
 },
 "nbformat": 4,
 "nbformat_minor": 2
}
