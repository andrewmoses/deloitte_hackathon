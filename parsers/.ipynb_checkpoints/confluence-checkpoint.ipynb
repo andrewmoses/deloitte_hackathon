{
 "cells": [
  {
   "cell_type": "code",
   "execution_count": 1,
   "metadata": {
    "scrolled": true
   },
   "outputs": [
    {
     "data": {
      "text/plain": [
       "'<!DOCTYPE html>\\n<html>\\n    <head>\\n        <title>demo : deep learning</title>\\n        <link rel=\"stylesheet\" href=\"styles/site.css\" type=\"text/css\" />\\n        <META http-equiv=\"Content-Type\" content=\"text/html; charset=UTF-8\">\\n    </head>\\n\\n    <body class=\"theme-default aui-theme-default\">\\n        <div id=\"page\">\\n            <div id=\"main\" class=\"aui-page-panel\">\\n                <div id=\"main-header\">\\n                    <div id=\"breadcrumb-section\">\\n                        <ol id=\"breadcrumbs\">\\n                            <li class=\"first\">\\n                                <span><a href=\"index.html\">demo</a></span>\\n                            </li>\\n                                                    <li>\\n                                <span><a href=\"demo_229378.html\">demo</a></span>\\n                            </li>\\n                                                </ol>\\n                    </div>\\n                    <h1 id=\"title-heading\" class=\"pagetitle\">\\n                                                <span id=\"title-text\">\\n                            demo : deep learning\\n                        </span>\\n                    </h1>\\n                </div>\\n\\n                <div id=\"content\" class=\"view\">\\n                    <div class=\"page-metadata\">\\n                        \\n        \\n    \\n        \\n    \\n        \\n        \\n            Created by <span class=\\'author\\'> Andrew Moses</span> on Mar 15, 2020\\n                        </div>\\n                    <div id=\"main-content\" class=\"wiki-content group\">\\n                    <p><strong>Deep learning</strong>\\xa0(also known as\\xa0<strong>deep structured learning</strong>\\xa0or\\xa0<strong>differential programming</strong>) is part of a broader family of\\xa0<a href=\"https://en.wikipedia.org/wiki/Machine_learning\" class=\"external-link\" rel=\"nofollow\">machine learning</a>\\xa0methods based on\\xa0<a href=\"https://en.wikipedia.org/wiki/Artificial_neural_networks\" class=\"external-link\" rel=\"nofollow\">artificial neural networks</a>\\xa0with\\xa0<a href=\"https://en.wikipedia.org/wiki/Representation_learning\" class=\"external-link\" rel=\"nofollow\">representation learning</a>. Learning can be\\xa0<a href=\"https://en.wikipedia.org/wiki/Supervised_learning\" class=\"external-link\" rel=\"nofollow\">supervised</a>,\\xa0<a href=\"https://en.wikipedia.org/wiki/Semi-supervised_learning\" class=\"external-link\" rel=\"nofollow\">semi-supervised</a>\\xa0or\\xa0<a href=\"https://en.wikipedia.org/wiki/Unsupervised_learning\" class=\"external-link\" rel=\"nofollow\">unsupervised</a>.<a href=\"https://en.wikipedia.org/wiki/Deep_learning#cite_note-BENGIO2012-1\" class=\"external-link\" rel=\"nofollow\"><sup>[1]</sup></a><a href=\"https://en.wikipedia.org/wiki/Deep_learning#cite_note-SCHIDHUB-2\" class=\"external-link\" rel=\"nofollow\"><sup>[2]</sup></a><a href=\"https://en.wikipedia.org/wiki/Deep_learning#cite_note-NatureBengio-3\" class=\"external-link\" rel=\"nofollow\"><sup>[3]</sup></a></p><p>Deep learning architectures such as\\xa0<a href=\"https://en.wikipedia.org/wiki/Deep_learning#Deep_neural_networks\" class=\"external-link\" rel=\"nofollow\">deep neural networks</a>,\\xa0<a href=\"https://en.wikipedia.org/wiki/Deep_belief_network\" class=\"external-link\" rel=\"nofollow\">deep belief networks</a>,\\xa0<a href=\"https://en.wikipedia.org/wiki/Recurrent_neural_networks\" class=\"external-link\" rel=\"nofollow\">recurrent neural networks</a>\\xa0and\\xa0<a href=\"https://en.wikipedia.org/wiki/Convolutional_neural_networks\" class=\"external-link\" rel=\"nofollow\">convolutional neural networks</a>\\xa0have been applied to fields including\\xa0<a href=\"https://en.wikipedia.org/wiki/Computer_vision\" class=\"external-link\" rel=\"nofollow\">computer vision</a>,\\xa0<a href=\"https://en.wikipedia.org/wiki/Automatic_speech_recognition\" class=\"external-link\" rel=\"nofollow\">speech recognition</a>,\\xa0<a href=\"https://en.wikipedia.org/wiki/Natural_language_processing\" class=\"external-link\" rel=\"nofollow\">natural language processing</a>,\\xa0<a href=\"https://en.wikipedia.org/wiki/Audio_recognition\" class=\"external-link\" rel=\"nofollow\">audio recognition</a>, social network filtering,\\xa0<a href=\"https://en.wikipedia.org/wiki/Machine_translation\" class=\"external-link\" rel=\"nofollow\">machine translation</a>,\\xa0<a href=\"https://en.wikipedia.org/wiki/Bioinformatics\" class=\"external-link\" rel=\"nofollow\">bioinformatics</a>,\\xa0<a href=\"https://en.wikipedia.org/wiki/Drug_design\" class=\"external-link\" rel=\"nofollow\">drug design</a>, medical image analysis, material inspection and\\xa0<a href=\"https://en.wikipedia.org/wiki/Board_game\" class=\"external-link\" rel=\"nofollow\">board game</a>\\xa0programs, where they have produced results comparable to and in some cases surpassing human expert performance.<a href=\"https://en.wikipedia.org/wiki/Deep_learning#cite_note-:9-4\" class=\"external-link\" rel=\"nofollow\"><sup>[4]</sup></a><a href=\"https://en.wikipedia.org/wiki/Deep_learning#cite_note-krizhevsky2012-5\" class=\"external-link\" rel=\"nofollow\"><sup>[5]</sup></a><a href=\"https://en.wikipedia.org/wiki/Deep_learning#cite_note-6\" class=\"external-link\" rel=\"nofollow\"><sup>[6]</sup></a></p><p><a href=\"https://en.wikipedia.org/wiki/Artificial_neural_network\" class=\"external-link\" rel=\"nofollow\">Artificial neural networks</a>\\xa0(ANNs) were inspired by information processing and distributed communication nodes in biological systems. ANNs have various differences from biological\\xa0<a href=\"https://en.wikipedia.org/wiki/Brain\" class=\"external-link\" rel=\"nofollow\">brains</a>. Specifically, neural networks tend to be static and symbolic, while the biological brain of most living organisms is dynamic (plastic) and analog.<a href=\"https://en.wikipedia.org/wiki/Deep_learning#cite_note-7\" class=\"external-link\" rel=\"nofollow\"><sup>[7]</sup></a><a href=\"https://en.wikipedia.org/wiki/Deep_learning#cite_note-8\" class=\"external-link\" rel=\"nofollow\"><sup>[8]</sup></a><a href=\"https://en.wikipedia.org/wiki/Deep_learning#cite_note-9\" class=\"external-link\" rel=\"nofollow\"><sup>[9]</sup></a></p>\\n                    </div>\\n\\n                    \\n                                                      \\n                </div>             </div> \\n            <div id=\"footer\" role=\"contentinfo\">\\n                <section class=\"footer-body\">\\n                    <p>Document generated by Confluence on Mar 21, 2020 20:08</p>\\n                    <div id=\"footer-logo\"><a href=\"http://www.atlassian.com/\">Atlassian</a></div>\\n                </section>\\n            </div>\\n        </div>     </body>\\n</html>\\n'"
      ]
     },
     "execution_count": 1,
     "metadata": {},
     "output_type": "execute_result"
    }
   ],
   "source": [
    "f = open('../inputs/raw_confluence/DEMO/deep-learning_4784129.html')\n",
    "raw_html = f.read()\n",
    "raw_html"
   ]
  },
  {
   "cell_type": "code",
   "execution_count": 6,
   "metadata": {
    "scrolled": true
   },
   "outputs": [],
   "source": [
    "from bs4 import BeautifulSoup\n",
    "soup = BeautifulSoup(raw_html)\n",
    "author_name = soup.find('span',{\"class\": \"author\"}).text.strip()"
   ]
  },
  {
   "cell_type": "code",
   "execution_count": 13,
   "metadata": {},
   "outputs": [],
   "source": [
    "no_of_lines = len(soup.find('div',{'id':'main-content'}).text)"
   ]
  },
  {
   "cell_type": "code",
   "execution_count": 15,
   "metadata": {},
   "outputs": [
    {
     "name": "stdout",
     "output_type": "stream",
     "text": [
      "Andrew Moses 1136\n",
      "Vamsee Krishna 124\n",
      "Vamsee Krishna 1185\n",
      "['Andrew Moses', 'Vamsee Krishna']\n",
      "[1136, 1309]\n"
     ]
    }
   ],
   "source": [
    "ip_list = ['deep-learning_4784129.html','JIRA-reports_3211276.html','Machine-learning_3047425.html']\n",
    "author_names = []\n",
    "lines_of_author = []\n",
    "for pg in ip_list:\n",
    "    f = open('../inputs/raw_confluence/DEMO/'+str(pg))\n",
    "    raw_html = f.read()\n",
    "    soup = BeautifulSoup(raw_html)\n",
    "    author_name = soup.find('span',{\"class\": \"author\"}).text.strip()\n",
    "    no_of_lines = len(soup.find('div',{'id':'main-content'}).text)\n",
    "    print(author_name, no_of_lines)\n",
    "    if not author_name in author_names:\n",
    "        author_names.append(author_name)\n",
    "        lines_of_author.append(no_of_lines)\n",
    "    else:\n",
    "        w_ind = author_names.index(author_name)\n",
    "        lines_of_author[w_ind] = lines_of_author[w_ind] + no_of_lines\n",
    "\n",
    "print(author_names)\n",
    "print(lines_of_author)"
   ]
  },
  {
   "cell_type": "code",
   "execution_count": 17,
   "metadata": {},
   "outputs": [
    {
     "data": {
      "text/html": [
       "<div>\n",
       "<style scoped>\n",
       "    .dataframe tbody tr th:only-of-type {\n",
       "        vertical-align: middle;\n",
       "    }\n",
       "\n",
       "    .dataframe tbody tr th {\n",
       "        vertical-align: top;\n",
       "    }\n",
       "\n",
       "    .dataframe thead th {\n",
       "        text-align: right;\n",
       "    }\n",
       "</style>\n",
       "<table border=\"1\" class=\"dataframe\">\n",
       "  <thead>\n",
       "    <tr style=\"text-align: right;\">\n",
       "      <th></th>\n",
       "      <th>author</th>\n",
       "      <th>contributions</th>\n",
       "    </tr>\n",
       "  </thead>\n",
       "  <tbody>\n",
       "    <tr>\n",
       "      <td>0</td>\n",
       "      <td>Andrew Moses</td>\n",
       "      <td>1136</td>\n",
       "    </tr>\n",
       "    <tr>\n",
       "      <td>1</td>\n",
       "      <td>Vamsee Krishna</td>\n",
       "      <td>1309</td>\n",
       "    </tr>\n",
       "  </tbody>\n",
       "</table>\n",
       "</div>"
      ],
      "text/plain": [
       "           author  contributions\n",
       "0    Andrew Moses           1136\n",
       "1  Vamsee Krishna           1309"
      ]
     },
     "execution_count": 17,
     "metadata": {},
     "output_type": "execute_result"
    }
   ],
   "source": [
    "import pandas as pd\n",
    "f_df = pd.DataFrame.from_dict({'author':author_names,'contributions':lines_of_author})\n",
    "f_df"
   ]
  },
  {
   "cell_type": "code",
   "execution_count": 19,
   "metadata": {},
   "outputs": [],
   "source": [
    "f_df.to_csv(\"../outputs/confluence.csv\",index=False)"
   ]
  }
 ],
 "metadata": {
  "kernelspec": {
   "display_name": "Python 3",
   "language": "python",
   "name": "python3"
  },
  "language_info": {
   "codemirror_mode": {
    "name": "ipython",
    "version": 3
   },
   "file_extension": ".py",
   "mimetype": "text/x-python",
   "name": "python",
   "nbconvert_exporter": "python",
   "pygments_lexer": "ipython3",
   "version": "3.7.4"
  }
 },
 "nbformat": 4,
 "nbformat_minor": 2
}
