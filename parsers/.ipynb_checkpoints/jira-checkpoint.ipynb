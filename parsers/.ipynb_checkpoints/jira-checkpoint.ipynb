{
 "cells": [
  {
   "cell_type": "code",
   "execution_count": 2,
   "metadata": {},
   "outputs": [
    {
     "data": {
      "text/html": [
       "<div>\n",
       "<style scoped>\n",
       "    .dataframe tbody tr th:only-of-type {\n",
       "        vertical-align: middle;\n",
       "    }\n",
       "\n",
       "    .dataframe tbody tr th {\n",
       "        vertical-align: top;\n",
       "    }\n",
       "\n",
       "    .dataframe thead th {\n",
       "        text-align: right;\n",
       "    }\n",
       "</style>\n",
       "<table border=\"1\" class=\"dataframe\">\n",
       "  <thead>\n",
       "    <tr style=\"text-align: right;\">\n",
       "      <th></th>\n",
       "      <th>Issue Type</th>\n",
       "      <th>Issue key</th>\n",
       "      <th>Issue id</th>\n",
       "      <th>Summary</th>\n",
       "      <th>Assignee</th>\n",
       "      <th>Reporter</th>\n",
       "      <th>Priority</th>\n",
       "      <th>Status</th>\n",
       "      <th>Resolution</th>\n",
       "      <th>Created</th>\n",
       "      <th>Updated</th>\n",
       "      <th>Due date</th>\n",
       "    </tr>\n",
       "  </thead>\n",
       "  <tbody>\n",
       "    <tr>\n",
       "      <td>0</td>\n",
       "      <td>Story</td>\n",
       "      <td>SAM-3</td>\n",
       "      <td>10002</td>\n",
       "      <td>hdr</td>\n",
       "      <td>melihdegis@gmail.com</td>\n",
       "      <td>admin</td>\n",
       "      <td>Medium</td>\n",
       "      <td>Done</td>\n",
       "      <td>Done</td>\n",
       "      <td>07-03-2020 16.10</td>\n",
       "      <td>07-03-2020 16.12</td>\n",
       "      <td>NaN</td>\n",
       "    </tr>\n",
       "    <tr>\n",
       "      <td>1</td>\n",
       "      <td>Story</td>\n",
       "      <td>SAM-2</td>\n",
       "      <td>10001</td>\n",
       "      <td>gdr</td>\n",
       "      <td>thangdc94@gmail.com</td>\n",
       "      <td>admin</td>\n",
       "      <td>Medium</td>\n",
       "      <td>Done</td>\n",
       "      <td>Done</td>\n",
       "      <td>07-03-2020 16.10</td>\n",
       "      <td>07-03-2020 16.12</td>\n",
       "      <td>NaN</td>\n",
       "    </tr>\n",
       "    <tr>\n",
       "      <td>2</td>\n",
       "      <td>Story</td>\n",
       "      <td>SAM-1</td>\n",
       "      <td>10000</td>\n",
       "      <td>k,dsfkesncskajcaihcjMANDJXAY</td>\n",
       "      <td>lukas.mestan@hyperia.sk</td>\n",
       "      <td>admin</td>\n",
       "      <td>Medium</td>\n",
       "      <td>Done</td>\n",
       "      <td>Done</td>\n",
       "      <td>07-03-2020 16.08</td>\n",
       "      <td>07-03-2020 16.12</td>\n",
       "      <td>NaN</td>\n",
       "    </tr>\n",
       "    <tr>\n",
       "      <td>3</td>\n",
       "      <td>Story</td>\n",
       "      <td>SAM-3</td>\n",
       "      <td>10002</td>\n",
       "      <td>hdr</td>\n",
       "      <td>melihdegis@gmail.com</td>\n",
       "      <td>admin</td>\n",
       "      <td>Medium</td>\n",
       "      <td>Done</td>\n",
       "      <td>Done</td>\n",
       "      <td>07-03-2020 16.10</td>\n",
       "      <td>07-03-2020 16.12</td>\n",
       "      <td>NaN</td>\n",
       "    </tr>\n",
       "    <tr>\n",
       "      <td>4</td>\n",
       "      <td>Story</td>\n",
       "      <td>SAM-3</td>\n",
       "      <td>10002</td>\n",
       "      <td>hdr</td>\n",
       "      <td>melihdegis@gmail.com</td>\n",
       "      <td>admin</td>\n",
       "      <td>Medium</td>\n",
       "      <td>Done</td>\n",
       "      <td>Done</td>\n",
       "      <td>07-03-2020 16.10</td>\n",
       "      <td>07-03-2020 16.12</td>\n",
       "      <td>NaN</td>\n",
       "    </tr>\n",
       "    <tr>\n",
       "      <td>5</td>\n",
       "      <td>Story</td>\n",
       "      <td>SAM-2</td>\n",
       "      <td>10001</td>\n",
       "      <td>gdr</td>\n",
       "      <td>thangdc94@gmail.com</td>\n",
       "      <td>admin</td>\n",
       "      <td>Medium</td>\n",
       "      <td>In progress</td>\n",
       "      <td>Done</td>\n",
       "      <td>07-03-2020 16.10</td>\n",
       "      <td>07-03-2020 16.12</td>\n",
       "      <td>NaN</td>\n",
       "    </tr>\n",
       "  </tbody>\n",
       "</table>\n",
       "</div>"
      ],
      "text/plain": [
       "  Issue Type Issue key  Issue id                       Summary  \\\n",
       "0      Story     SAM-3     10002                           hdr   \n",
       "1      Story     SAM-2     10001                           gdr   \n",
       "2      Story     SAM-1     10000  k,dsfkesncskajcaihcjMANDJXAY   \n",
       "3      Story     SAM-3     10002                           hdr   \n",
       "4      Story     SAM-3     10002                           hdr   \n",
       "5      Story     SAM-2     10001                           gdr   \n",
       "\n",
       "                  Assignee Reporter Priority       Status Resolution  \\\n",
       "0     melihdegis@gmail.com    admin   Medium         Done       Done   \n",
       "1      thangdc94@gmail.com    admin   Medium         Done       Done   \n",
       "2  lukas.mestan@hyperia.sk    admin   Medium         Done       Done   \n",
       "3     melihdegis@gmail.com    admin   Medium         Done       Done   \n",
       "4     melihdegis@gmail.com    admin   Medium         Done       Done   \n",
       "5      thangdc94@gmail.com    admin   Medium  In progress       Done   \n",
       "\n",
       "            Created           Updated  Due date  \n",
       "0  07-03-2020 16.10  07-03-2020 16.12       NaN  \n",
       "1  07-03-2020 16.10  07-03-2020 16.12       NaN  \n",
       "2  07-03-2020 16.08  07-03-2020 16.12       NaN  \n",
       "3  07-03-2020 16.10  07-03-2020 16.12       NaN  \n",
       "4  07-03-2020 16.10  07-03-2020 16.12       NaN  \n",
       "5  07-03-2020 16.10  07-03-2020 16.12       NaN  "
      ]
     },
     "execution_count": 2,
     "metadata": {},
     "output_type": "execute_result"
    }
   ],
   "source": [
    "import pandas as pd\n",
    "jira_df = pd.read_csv('../inputs/jira.csv')\n",
    "jira_df"
   ]
  },
  {
   "cell_type": "code",
   "execution_count": 3,
   "metadata": {},
   "outputs": [
    {
     "data": {
      "text/plain": [
       "array(['melihdegis@gmail.com', 'thangdc94@gmail.com',\n",
       "       'lukas.mestan@hyperia.sk'], dtype=object)"
      ]
     },
     "execution_count": 3,
     "metadata": {},
     "output_type": "execute_result"
    }
   ],
   "source": [
    "unique_devs = jira_df['Assignee'].unique()\n",
    "unique_devs"
   ]
  },
  {
   "cell_type": "code",
   "execution_count": 4,
   "metadata": {},
   "outputs": [
    {
     "data": {
      "text/plain": [
       "{'email': ['melihdegis@gmail.com',\n",
       "  'thangdc94@gmail.com',\n",
       "  'lukas.mestan@hyperia.sk'],\n",
       " 'tickets_count': [3, 1, 1]}"
      ]
     },
     "execution_count": 4,
     "metadata": {},
     "output_type": "execute_result"
    }
   ],
   "source": [
    "# loop through unique_devs and get their respective tickets with done status\n",
    "uniq_names = []\n",
    "ticket_count = []\n",
    "for each in unique_devs:\n",
    "    tmp_df = jira_df.where((jira_df['Assignee']==each) & (jira_df['Status']=='Done'))\n",
    "    fil_df = tmp_df[tmp_df['Assignee'].notnull()]\n",
    "    ticket_count.append(fil_df['Assignee'].count())\n",
    "    uniq_names.append(each)\n",
    "for_df = {\n",
    "    'email':uniq_names,\n",
    "    'tickets_count':ticket_count\n",
    "}\n",
    "for_df"
   ]
  },
  {
   "cell_type": "code",
   "execution_count": 5,
   "metadata": {},
   "outputs": [
    {
     "data": {
      "text/html": [
       "<div>\n",
       "<style scoped>\n",
       "    .dataframe tbody tr th:only-of-type {\n",
       "        vertical-align: middle;\n",
       "    }\n",
       "\n",
       "    .dataframe tbody tr th {\n",
       "        vertical-align: top;\n",
       "    }\n",
       "\n",
       "    .dataframe thead th {\n",
       "        text-align: right;\n",
       "    }\n",
       "</style>\n",
       "<table border=\"1\" class=\"dataframe\">\n",
       "  <thead>\n",
       "    <tr style=\"text-align: right;\">\n",
       "      <th></th>\n",
       "      <th>email</th>\n",
       "      <th>tickets_count</th>\n",
       "    </tr>\n",
       "  </thead>\n",
       "  <tbody>\n",
       "    <tr>\n",
       "      <td>0</td>\n",
       "      <td>melihdegis@gmail.com</td>\n",
       "      <td>3</td>\n",
       "    </tr>\n",
       "    <tr>\n",
       "      <td>1</td>\n",
       "      <td>thangdc94@gmail.com</td>\n",
       "      <td>1</td>\n",
       "    </tr>\n",
       "    <tr>\n",
       "      <td>2</td>\n",
       "      <td>lukas.mestan@hyperia.sk</td>\n",
       "      <td>1</td>\n",
       "    </tr>\n",
       "  </tbody>\n",
       "</table>\n",
       "</div>"
      ],
      "text/plain": [
       "                     email  tickets_count\n",
       "0     melihdegis@gmail.com              3\n",
       "1      thangdc94@gmail.com              1\n",
       "2  lukas.mestan@hyperia.sk              1"
      ]
     },
     "execution_count": 5,
     "metadata": {},
     "output_type": "execute_result"
    }
   ],
   "source": [
    "f_df = pd.DataFrame.from_dict(for_df)\n",
    "f_df"
   ]
  },
  {
   "cell_type": "code",
   "execution_count": 6,
   "metadata": {},
   "outputs": [],
   "source": [
    "# to csv file\n",
    "f_df = pd.DataFrame.from_dict(for_df)\n",
    "f_df.to_csv(\"../outputs/jira.csv\",index=False)"
   ]
  }
 ],
 "metadata": {
  "kernelspec": {
   "display_name": "Python 3",
   "language": "python",
   "name": "python3"
  },
  "language_info": {
   "codemirror_mode": {
    "name": "ipython",
    "version": 3
   },
   "file_extension": ".py",
   "mimetype": "text/x-python",
   "name": "python",
   "nbconvert_exporter": "python",
   "pygments_lexer": "ipython3",
   "version": "3.7.4"
  }
 },
 "nbformat": 4,
 "nbformat_minor": 2
}
